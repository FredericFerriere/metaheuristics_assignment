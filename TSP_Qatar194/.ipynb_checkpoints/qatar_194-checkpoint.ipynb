{
 "cells": [
  {
   "cell_type": "code",
   "execution_count": 1,
   "metadata": {},
   "outputs": [],
   "source": [
    "import time\n",
    "import itertools\n",
    "import numpy as np\n",
    "import pandas as pd\n",
    "import matplotlib.pyplot as plt"
   ]
  },
  {
   "cell_type": "code",
   "execution_count": 2,
   "metadata": {},
   "outputs": [],
   "source": [
    "def loadData(fileNameStr):\n",
    "    df = pd.read_csv(fileNameStr,sep=' ', header=None)\n",
    "    df.columns = ['cityNumber', 'x', 'y']\n",
    "    xs = df.x\n",
    "    ys = df.y\n",
    "    return xs, ys"
   ]
  },
  {
   "cell_type": "code",
   "execution_count": 3,
   "metadata": {},
   "outputs": [],
   "source": [
    "xs, ys = loadData('Qatar_194_coordinates.tsp')\n",
    "numPoints = len(xs)"
   ]
  },
  {
   "cell_type": "code",
   "execution_count": 4,
   "metadata": {},
   "outputs": [],
   "source": [
    "#function used to build the distance matrix\n",
    "def distance(point1, point2):\n",
    "    return np.sqrt(sum((point1-point2)**2))\n",
    "\n",
    "def createDistanceMatrix(xs, ys):\n",
    "    numPoints = len(xs)\n",
    "    dists = np.ndarray((numPoints,numPoints))\n",
    "    for i in range(numPoints):\n",
    "        dists[i,i] = 0\n",
    "        for j in range(i+1,numPoints):\n",
    "            dists[i,j] = distance(np.array([xs[i],ys[i]]), np.array([xs[j],ys[j]]))\n",
    "            dists[j,i] = dists[i,j]   \n",
    "    return dists"
   ]
  },
  {
   "cell_type": "code",
   "execution_count": 5,
   "metadata": {},
   "outputs": [],
   "source": [
    "dists = createDistanceMatrix(xs, ys)"
   ]
  },
  {
   "cell_type": "code",
   "execution_count": 6,
   "metadata": {},
   "outputs": [],
   "source": [
    "def routeLength(path, distancesMatrix):\n",
    "    curLength = distancesMatrix[0,path[0]]\n",
    "    for i in range(len(path)-1):\n",
    "        curLength += distancesMatrix[path[i], path[i+1]]\n",
    "    curLength += distancesMatrix[path[-1],0]\n",
    "    return curLength"
   ]
  },
  {
   "cell_type": "code",
   "execution_count": 7,
   "metadata": {},
   "outputs": [
    {
     "name": "stdout",
     "output_type": "stream",
     "text": [
      "[  1   2   3   4   5   6   7   8   9  10  11  12  13  14  15  16  17  18\n",
      "  19  20  21  22  23  24  25  26  27  28  29  30  31  32  33  34  35  36\n",
      "  37  38  39  40  41  42  43  44  45  46  47  48  49  50  51  52  53  54\n",
      "  55  56  57  58  59  60  61  62  63  64  65  66  67  68  69  70  71  72\n",
      "  73  74  75  76  77  78  79  80  81  82  83  84  85  86  87  88  89  90\n",
      "  91  92  93  94  95  96  97  98  99 100 101 102 103 104 105 106 107 108\n",
      " 109 110 111 112 113 114 115 116 117 118 119 120 121 122 123 124 125 126\n",
      " 127 128 129 130 131 132 133 134 135 136 137 138 139 140 141 142 143 144\n",
      " 145 146 147 148 149 150 151 152 153 154 155 156 157 158 159 160 161 162\n",
      " 163 164 165 166 167 168 169 170 171 172 173 174 175 176 177 178 179 180\n",
      " 181 182 183 184 185 186 187 188 189 190 191 192 193]\n",
      "39555.63359710213\n"
     ]
    }
   ],
   "source": [
    "curPath = np.array([i for i in range(1,numPoints)])\n",
    "curLength = routeLength(curPath, dists)\n",
    "print(curPath)\n",
    "print(curLength)"
   ]
  },
  {
   "cell_type": "code",
   "execution_count": 8,
   "metadata": {},
   "outputs": [],
   "source": [
    "def computeBestPath(xs, ys):\n",
    "\n",
    "    g = np.array([np.mean(xs),np.mean(ys)])  # center of gravity\n",
    "    path = []     #points used in the path\n",
    "    path_x = []   #x values of points, used to update g\n",
    "    path_y = []   #y values of points, used to update\n",
    "    outstanding = [i for i in range(numPoints)] \n",
    "\n",
    "    # find 3 closest points to g\n",
    "    sortedOutstanding = sorted(outstanding, key = lambda i: distance(g,np.array([xs[i],ys[i]])))\n",
    "    for i in range(3):\n",
    "        path.append(sortedOutstanding[i])\n",
    "        path_x.append(xs[sortedOutstanding[i]])\n",
    "        path_y.append(ys[sortedOutstanding[i]])\n",
    "\n",
    "    #remove from sortedOutstanding by value\n",
    "    for i in range(3):\n",
    "        outstanding.remove(path[i])\n",
    "\n",
    "    for count in range(0, numPoints-3):\n",
    "    #for count in range(0, 1):    \n",
    "        g = np.array([np.mean(path_x),np.mean(path_y)])\n",
    "        #find closest point to g in list of outstanding points\n",
    "        minDist = distance(g,np.array([xs[outstanding[0]],ys[outstanding[0]]]))\n",
    "        minPos = 0\n",
    "        for i in range(1, len(outstanding)):\n",
    "            compDist = distance(g,np.array([xs[outstanding[i]],ys[outstanding[i]]]))\n",
    "            if compDist < minDist:\n",
    "                minDist = compDist\n",
    "                minPos = i\n",
    "        pNewName = outstanding[minPos]\n",
    "        pNew = np.array([xs[pNewName],ys[pNewName]])\n",
    "\n",
    "        p = np.array([xs[path[-1]],ys[path[-1]]])\n",
    "        pNext = np.array([xs[path[0]],ys[path[0]]])\n",
    "        minDist = distance(pNew,p) + distance(pNew,pNext) - distance(p, pNext)\n",
    "        minPos = -1\n",
    "        for i in range(len(path)-1):\n",
    "            p = np.array([xs[path[i]],ys[path[i]]])\n",
    "            pNext = np.array([xs[path[i+1]],ys[path[i+1]]])\n",
    "            compDist = distance(pNew,p) + distance(pNew,pNext) - distance(p, pNext)\n",
    "            if compDist < minDist:\n",
    "                minDist = compDist\n",
    "                minPos = i\n",
    "        path.insert(minPos+1, pNewName)\n",
    "        path_x.append(xs[pNewName])\n",
    "        path_y.append(ys[pNewName])\n",
    "        outstanding.remove(pNewName)\n",
    "\n",
    "    zeroPos = path.index(0)\n",
    "    res = path[zeroPos+1:] + path[:zeroPos]\n",
    "        \n",
    "    return res"
   ]
  },
  {
   "cell_type": "code",
   "execution_count": 9,
   "metadata": {},
   "outputs": [
    {
     "name": "stdout",
     "output_type": "stream",
     "text": [
      "1.1312339305877686\n"
     ]
    }
   ],
   "source": [
    "startTime = time.time()\n",
    "bestPathTest = computeBestPath(xs, ys)\n",
    "endTime = time.time()\n",
    "runTime = endTime - startTime\n",
    "print(runTime)\n",
    "bestPathLength = routeLength(bestPathTest, dists)"
   ]
  },
  {
   "cell_type": "code",
   "execution_count": 10,
   "metadata": {
    "scrolled": true
   },
   "outputs": [
    {
     "name": "stdout",
     "output_type": "stream",
     "text": [
      "[1, 2, 6, 16, 20, 17, 27, 21, 28, 56, 44, 82, 78, 80, 69, 63, 67, 65, 36, 26, 11, 8, 9, 4, 14, 18, 38, 50, 46, 33, 39, 42, 37, 40, 45, 47, 43, 30, 31, 29, 34, 41, 49, 48, 54, 53, 51, 52, 55, 57, 60, 66, 72, 76, 83, 91, 96, 99, 109, 111, 114, 122, 123, 127, 119, 132, 142, 147, 134, 128, 135, 130, 120, 116, 115, 117, 121, 164, 173, 172, 174, 185, 186, 189, 193, 182, 183, 188, 191, 190, 187, 192, 176, 180, 177, 179, 167, 169, 184, 170, 166, 158, 157, 161, 165, 159, 154, 150, 146, 151, 140, 143, 152, 149, 156, 153, 138, 137, 118, 107, 106, 104, 105, 102, 101, 108, 112, 113, 125, 124, 136, 141, 145, 163, 178, 171, 181, 175, 168, 162, 160, 155, 148, 144, 139, 133, 131, 126, 129, 110, 103, 100, 98, 93, 97, 85, 84, 64, 19, 89, 88, 81, 61, 62, 35, 58, 79, 86, 90, 92, 94, 95, 87, 77, 74, 75, 70, 71, 73, 68, 59, 32, 25, 23, 24, 22, 15, 5, 7, 12, 13, 10, 3]\n",
      "12060.236506070274\n"
     ]
    }
   ],
   "source": [
    "print(bestPathTest)\n",
    "print(bestPathLength)"
   ]
  },
  {
   "cell_type": "code",
   "execution_count": 11,
   "metadata": {},
   "outputs": [],
   "source": [
    "def visualiseRoute(xs, ys, path, routeLength):\n",
    "    fig, ax = plt.subplots(1,1)\n",
    "    dash = [5, 5]\n",
    "    #ax.scatter([-5,5],[-5,5], visible=False)\n",
    "    ax.scatter(xs[0],ys[0], color='black')\n",
    "    ax.scatter(xs[1:], ys[1:], color='blue')\n",
    "    ax.plot([xs[0],xs[path[0]]],[ys[0],ys[path[0]]], color='red', dashes=dash)\n",
    "    for i in range(numPoints-2):\n",
    "        ax.plot([xs[path[i]],xs[path[i+1]]],[ys[path[i]],ys[path[i+1]]], color='red', dashes=dash)\n",
    "    ax.plot([xs[0],xs[path[-1]]],[ys[0],ys[path[-1]]], color='red', dashes=dash)    \n",
    "    ax.set_title('Route length: {:.3}'.format(routeLength))"
   ]
  },
  {
   "cell_type": "code",
   "execution_count": 12,
   "metadata": {},
   "outputs": [
    {
     "data": {
      "image/png": "[encoded data removed]",
      "text/plain": [
       "<Figure size 432x288 with 1 Axes>"
      ]
     },
     "metadata": {
      "needs_background": "light"
     },
     "output_type": "display_data"
    }
   ],
   "source": [
    "visualiseRoute(xs, ys, bestPathTest, bestPathLength)"
   ]
  },
  {
   "cell_type": "markdown",
   "metadata": {},
   "source": [
    "GA"
   ]
  },
  {
   "cell_type": "code",
   "execution_count": 13,
   "metadata": {},
   "outputs": [],
   "source": [
    "from jmetal.algorithm.singleobjective.genetic_algorithm import GeneticAlgorithm\n",
    "from jmetal.operator import BinaryTournamentSelection\n",
    "from jmetal.operator.crossover import PMXCrossover\n",
    "from jmetal.operator.mutation import PermutationSwapMutation\n",
    "from jmetal.problem.singleobjective.tsp import TSP\n",
    "from jmetal.util.comparator import MultiComparator\n",
    "from jmetal.util.density_estimator import CrowdingDistance\n",
    "from jmetal.util.ranking import FastNonDominatedRanking\n",
    "from jmetal.util.termination_criterion import StoppingByEvaluations\n",
    "from jmetal.core.solution import PermutationSolution"
   ]
  },
  {
   "cell_type": "code",
   "execution_count": 14,
   "metadata": {},
   "outputs": [],
   "source": [
    "class myTSP(TSP):\n",
    "    def __init__(self, distMatrix, numPoints ):\n",
    "        super(TSP, self).__init__()\n",
    "\n",
    "        self.distance_matrix = distMatrix\n",
    "\n",
    "        self.obj_directions = [self.MINIMIZE]\n",
    "        self.number_of_variables = numPoints\n",
    "        self.number_of_objectives = 1\n",
    "        self.number_of_constraints = 0\n",
    "    "
   ]
  },
  {
   "cell_type": "code",
   "execution_count": 15,
   "metadata": {},
   "outputs": [],
   "source": [
    "def reformatGASolution(gaSol):\n",
    "    zeroPos = gaSol.index(0)\n",
    "    formatgaSol=[]\n",
    "    for i in range(zeroPos+1,numPoints):\n",
    "        formatgaSol.append(gaSol[i])\n",
    "    for i in range(0,zeroPos):\n",
    "        formatgaSol.append(gaSol[i])\n",
    "    return formatgaSol"
   ]
  },
  {
   "cell_type": "code",
   "execution_count": 16,
   "metadata": {},
   "outputs": [
    {
     "name": "stdout",
     "output_type": "stream",
     "text": [
      "GA Solution\n",
      "Solution: [7, 133, 131, 17, 58, 160, 193, 183, 163, 13, 57, 144, 103, 170, 164, 142, 128, 159, 132, 185, 179, 138, 149, 124, 172, 89, 24, 111, 104, 112, 97, 62, 31, 55, 34, 127, 21, 110, 84, 74, 90, 171, 161, 113, 150, 155, 182, 169, 158, 166, 107, 86, 143, 140, 4, 48, 66, 71, 14, 77, 82, 47, 67, 130, 78, 99, 117, 122, 79, 70, 187, 184, 180, 154, 162, 88, 72, 168, 125, 100, 35, 19, 61, 51, 80, 9, 26, 46, 50, 134, 41, 68, 2, 15, 29, 69, 165, 108, 115, 156, 59, 96, 23, 87, 181, 178, 148, 153, 95, 102, 147, 135, 188, 177, 152, 146, 105, 73, 8, 141, 175, 85, 81, 136, 145, 106, 65, 10, 3, 5, 30, 32, 56, 118, 123, 116, 6, 91, 109, 12, 64, 42, 22, 121, 98, 151, 53, 33, 27, 40, 28, 60, 18, 44, 52, 139, 129, 75, 83, 11, 49, 38, 36, 20, 54, 94, 63, 114, 173, 137, 93, 126, 189, 174, 120, 186, 190, 92, 25, 16, 45, 43, 39, 176, 167, 119, 76, 157, 192, 191, 37, 101, 1]\n",
      "Fitness: 61331.64218123216\n",
      "Computing time: 15.885765314102173\n",
      "\n",
      "Best Solution\n",
      "best Path: [1, 2, 6, 16, 20, 17, 27, 21, 28, 56, 44, 82, 78, 80, 69, 63, 67, 65, 36, 26, 11, 8, 9, 4, 14, 18, 38, 50, 46, 33, 39, 42, 37, 40, 45, 47, 43, 30, 31, 29, 34, 41, 49, 48, 54, 53, 51, 52, 55, 57, 60, 66, 72, 76, 83, 91, 96, 99, 109, 111, 114, 122, 123, 127, 119, 132, 142, 147, 134, 128, 135, 130, 120, 116, 115, 117, 121, 164, 173, 172, 174, 185, 186, 189, 193, 182, 183, 188, 191, 190, 187, 192, 176, 180, 177, 179, 167, 169, 184, 170, 166, 158, 157, 161, 165, 159, 154, 150, 146, 151, 140, 143, 152, 149, 156, 153, 138, 137, 118, 107, 106, 104, 105, 102, 101, 108, 112, 113, 125, 124, 136, 141, 145, 163, 178, 171, 181, 175, 168, 162, 160, 155, 148, 144, 139, 133, 131, 126, 129, 110, 103, 100, 98, 93, 97, 85, 84, 64, 19, 89, 88, 81, 61, 62, 35, 58, 79, 86, 90, 92, 94, 95, 87, 77, 74, 75, 70, 71, 73, 68, 59, 32, 25, 23, 24, 22, 15, 5, 7, 12, 13, 10, 3]\n",
      "best Path: 12060.236506070274\n"
     ]
    }
   ],
   "source": [
    "problem = myTSP(dists, numPoints)\n",
    "\n",
    "maxGen = 120\n",
    "popSize = 100\n",
    "offSpringSize = 100\n",
    "\n",
    "algorithm = GeneticAlgorithm(\n",
    "    problem=problem,\n",
    "    population_size=popSize,\n",
    "    offspring_population_size=offSpringSize,\n",
    "    mutation=PermutationSwapMutation(1.0 / problem.number_of_variables),\n",
    "    crossover=PMXCrossover(0.7),\n",
    "    selection=BinaryTournamentSelection(\n",
    "    MultiComparator([FastNonDominatedRanking.get_comparator(),\n",
    "                                 CrowdingDistance.get_comparator()])),\n",
    "    termination_criterion=StoppingByEvaluations(max=maxGen*(popSize+offSpringSize))\n",
    "    )\n",
    "\n",
    "algorithm.run()\n",
    "result = algorithm.get_result()\n",
    "gaSol = reformatGASolution(result.variables)\n",
    "print('GA Solution')\n",
    "print('Solution: {}'.format(gaSol))\n",
    "print('Fitness: {}'.format(result.objectives[0]))\n",
    "print('Computing time: {}'.format(algorithm.total_computing_time))\n",
    "\n",
    "print('\\nBest Solution')\n",
    "print('best Path: {}'.format(bestPathTest))\n",
    "print('best Path: {}'.format(bestPathLength))\n"
   ]
  },
  {
   "cell_type": "markdown",
   "metadata": {},
   "source": [
    "Alternative GA"
   ]
  },
  {
   "cell_type": "code",
   "execution_count": 17,
   "metadata": {},
   "outputs": [],
   "source": [
    "from sklearn.cluster import KMeans"
   ]
  },
  {
   "cell_type": "code",
   "execution_count": 25,
   "metadata": {},
   "outputs": [
    {
     "name": "stdout",
     "output_type": "stream",
     "text": [
      "smallest group: 1\n",
      "biggest group: 19\n"
     ]
    }
   ],
   "source": [
    "numClusters = 70\n",
    "kmeans = KMeans(n_clusters=numClusters, random_state=0).fit(np.column_stack((xs,ys)))\n",
    "xList = []\n",
    "yList = []\n",
    "nameList = []\n",
    "for i in range(numClusters):\n",
    "    xList.append([])\n",
    "    yList.append([])\n",
    "    nameList.append([])\n",
    "    \n",
    "for i in range(numPoints):\n",
    "    groupNum = kmeans.labels_[i]\n",
    "    xList[groupNum].append(xs[i])\n",
    "    yList[groupNum].append(ys[i]) \n",
    "    nameList[groupNum].append(i)\n",
    "\n",
    "print('smallest group: {}'.format(min([len(xi) for xi in xList])))\n",
    "print('biggest group: {}'.format(max([len(xi) for xi in xList])))\n"
   ]
  },
  {
   "cell_type": "code",
   "execution_count": 26,
   "metadata": {},
   "outputs": [],
   "source": [
    "def visualiseGroups(xList, yList):\n",
    "    fig, ax = plt.subplots(1,1)\n",
    "    for i in range(len(xList)):\n",
    "        ax.scatter(xList[i], yList[i])"
   ]
  },
  {
   "cell_type": "code",
   "execution_count": 27,
   "metadata": {},
   "outputs": [
    {
     "data": {
      "image/png": "[encoded data removed]",
      "text/plain": [
       "<Figure size 432x288 with 1 Axes>"
      ]
     },
     "metadata": {
      "needs_background": "light"
     },
     "output_type": "display_data"
    }
   ],
   "source": [
    "visualiseGroups(xList,yList)"
   ]
  },
  {
   "cell_type": "code",
   "execution_count": 111,
   "metadata": {},
   "outputs": [],
   "source": [
    "def TSP_exhaustiveSolve(dists):\n",
    "    # the starting point is assumed to be p_O.\n",
    "    # a path is then just a permutation of points 1,2,...,n\n",
    "    # If we had considered permutations of 0,1,2,...n we would consider the same path several times\n",
    "    # as 0,1,2,...,n is equivalent to 3,4,...,n,0,1,2\n",
    "    # so starting from 0 reduces the number of permutations we need to consider\n",
    "    \n",
    "    # Further optimisation is possible since paths 0,1,2,...,n and 0,n,n-1,...,2,1 are equivalent\n",
    "    \n",
    "    # if we had allowed any point to be the starting point\n",
    "    timeStart = time.time()\n",
    "    numPoints = dists.shape[0]\n",
    "    bestPath = [i for i in range(1, numPoints)]\n",
    "    bestPathLength = routeLength(bestPath, dists)\n",
    "    permIter = itertools.permutations(bestPath)\n",
    "    allPaths = []\n",
    "    keepLoop = True\n",
    "    while keepLoop:\n",
    "        try:\n",
    "            checkPath = next(permIter)\n",
    "            checkPathLength = routeLength(checkPath, dists)\n",
    "            allPaths.append(checkPathLength)\n",
    "            if checkPathLength < bestPathLength:\n",
    "                bestPathLength = checkPathLength\n",
    "                bestPath = [el for el in checkPath]\n",
    "        except StopIteration:\n",
    "            keepLoop = False\n",
    "    timeEnd = time.time()\n",
    "    timeLength = timeEnd-timeStart\n",
    "    \n",
    "    return bestPath, bestPathLength, timeLength"
   ]
  },
  {
   "cell_type": "code",
   "execution_count": 112,
   "metadata": {},
   "outputs": [],
   "source": [
    "#exhaustive search TSP for each subgroup. Could be parallelised\n",
    "\n",
    "distMatrices = []\n",
    "optimalSubPaths = []\n",
    "optimalSubLengths = []\n",
    "for i in range(numClusters):\n",
    "    distMat = createDistanceMatrix(xList[i], yList[i])\n",
    "    optimalSubPath, optimalSubLength, runDuration = TSP_exhaustiveSolve(distMat)\n",
    "    optimalSubPaths.append(optimalSubPath)\n",
    "    optimalSubLengths.append(optimalSubLength)"
   ]
  },
  {
   "cell_type": "code",
   "execution_count": 113,
   "metadata": {},
   "outputs": [],
   "source": [
    "def visualiseSubPaths(xList, yList, optimalSubPaths):\n",
    "    fig, ax = plt.subplots(1,1)\n",
    "    \n",
    "    #ax.scatter([-5,5],[-5,5], visible=False)\n",
    "    for i in range(len(xList)):\n",
    "        xs = xList[i]\n",
    "        ys = yList[i]\n",
    "        numPoints = len(xs)\n",
    "        path = optimalSubPaths[i]\n",
    "        ax.scatter(xs, ys, color='blue')\n",
    "        ax.plot([xs[0],xs[path[0]]],[ys[0],ys[path[0]]], color='red')\n",
    "        for i in range(numPoints-2):\n",
    "            ax.plot([xs[path[i]],xs[path[i+1]]],[ys[path[i]],ys[path[i+1]]], color='red')\n",
    "        ax.plot([xs[0],xs[path[-1]]],[ys[0],ys[path[-1]]], color='red')\n",
    "    "
   ]
  },
  {
   "cell_type": "code",
   "execution_count": 114,
   "metadata": {},
   "outputs": [
    {
     "data": {
      "image/png": "[encoded data removed]",
      "text/plain": [
       "<Figure size 432x288 with 1 Axes>"
      ]
     },
     "metadata": {
      "needs_background": "light"
     },
     "output_type": "display_data"
    }
   ],
   "source": [
    "visualiseSubPaths(xList, yList, optimalSubPaths)"
   ]
  },
  {
   "cell_type": "code",
   "execution_count": 115,
   "metadata": {},
   "outputs": [],
   "source": [
    "class myTSP2(TSP):\n",
    "    def __init__(self, distMatrix, numPoints, nameList):\n",
    "        super(TSP, self).__init__()\n",
    "\n",
    "        self.distance_matrix = distMatrix\n",
    "        self.name_list = nameList\n",
    "\n",
    "        self.obj_directions = [self.MINIMIZE]\n",
    "        self.number_of_variables = numPoints\n",
    "        self.number_of_objectives = 1\n",
    "        self.number_of_constraints = 0\n",
    "    \n",
    "    def create_solution(self) -> PermutationSolution:\n",
    "        # The idea is to reuse subsequences obtained from piecewise optimisation performed \n",
    "        # on subgroups obtained via kmeans, so that the initial population has \n",
    "        # some preoptimised sequences and convergence might be quicker.\n",
    "        # global recombination from optimised sequences done at random\n",
    "        # can be improved\n",
    "        \n",
    "        new_solution = PermutationSolution(number_of_variables=self.number_of_variables,\n",
    "                                           number_of_objectives=self.number_of_objectives)\n",
    "        #new_solution.variables = random.sample(range(self.number_of_variables), k=self.number_of_variables)\n",
    "        \n",
    "        randShuf = np.arange(len(self.name_list))\n",
    "        np.random.shuffle(randShuf)\n",
    "        \n",
    "        #sampleSol = [pt for pt in nameList[el] for el in randShuf]\n",
    "        sampleSol = []\n",
    "        for el in randShuf:\n",
    "            seq = nameList[el]\n",
    "            for pt in seq:\n",
    "                sampleSol.append(pt)\n",
    "        new_solution.variables = sampleSol\n",
    "        \n",
    "        return new_solution"
   ]
  },
  {
   "cell_type": "code",
   "execution_count": 118,
   "metadata": {},
   "outputs": [
    {
     "name": "stdout",
     "output_type": "stream",
     "text": [
      "GA Solution\n",
      "Solution: [9, 13, 20, 28, 29, 31, 34, 32, 33, 30, 35, 37, 36, 26, 10, 11, 15, 18, 17, 16, 2, 4, 3, 5, 6, 7, 8, 12, 14, 19, 22, 24, 25, 27, 23, 21, 1]\n",
      "Best Path: 8459.391390776564\n",
      "Computing time: 2.298797607421875\n"
     ]
    },
    {
     "data": {
      "image/png": "[encoded data removed]",
      "text/plain": [
       "<Figure size 432x288 with 1 Axes>"
      ]
     },
     "metadata": {
      "needs_background": "light"
     },
     "output_type": "display_data"
    }
   ],
   "source": [
    "problem = myTSP2(dists, numPoints, nameList)\n",
    "\n",
    "maxGen = 60\n",
    "popSize = 200\n",
    "offSpringSize = 200\n",
    "\n",
    "algorithm = GeneticAlgorithm(\n",
    "    problem=problem,\n",
    "    population_size=popSize,\n",
    "    offspring_population_size=offSpringSize,\n",
    "    mutation=PermutationSwapMutation(1.0 / problem.number_of_variables),\n",
    "    crossover=PMXCrossover(0.8),\n",
    "    selection=BinaryTournamentSelection(\n",
    "    MultiComparator([FastNonDominatedRanking.get_comparator(),\n",
    "                                 CrowdingDistance.get_comparator()])),\n",
    "    termination_criterion=StoppingByEvaluations(max=maxGen*(popSize+offSpringSize))\n",
    "    )\n",
    "\n",
    "algorithm.run()\n",
    "result = algorithm.get_result()\n",
    "gaSol = reformatGASolution(result.variables)\n",
    "IGA_bestPath = result.objectives[0]\n",
    "print('GA Solution')\n",
    "print('Solution: {}'.format(gaSol))\n",
    "print('Best Path: {}'.format(IGA_bestPath))\n",
    "print('Computing time: {}'.format(algorithm.total_computing_time))\n",
    "\n",
    "visualiseRoute(xs, ys, gaSol, result.objectives[0])"
   ]
  },
  {
   "cell_type": "code",
   "execution_count": null,
   "metadata": {},
   "outputs": [],
   "source": []
  }
 ],
 "metadata": {
  "kernelspec": {
   "display_name": "Python 3",
   "language": "python",
   "name": "python3"
  },
  "language_info": {
   "codemirror_mode": {
    "name": "ipython",
    "version": 3
   },
   "file_extension": ".py",
   "mimetype": "text/x-python",
   "name": "python",
   "nbconvert_exporter": "python",
   "pygments_lexer": "ipython3",
   "version": "3.7.4"
  }
 },
 "nbformat": 4,
 "nbformat_minor": 2
}
