{
 "cells": [
  {
   "cell_type": "code",
   "execution_count": 61,
   "metadata": {},
   "outputs": [],
   "source": [
    "import numpy as np\n",
    "import matplotlib.pyplot as plt\n",
    "import scipy\n",
    "from scipy.optimize import minimize\n",
    "from scipy.optimize import minimize_scalar\n",
    "import math\n",
    "import time\n",
    "import functionToOptimise as fun"
   ]
  },
  {
   "cell_type": "code",
   "execution_count": 62,
   "metadata": {},
   "outputs": [],
   "source": [
    "class myCallback:\n",
    "    def __init__(self):\n",
    "        self.mxEvals = []\n",
    "    def evaluate(self, x, *args):\n",
    "        self.mxEvals.append(x)"
   ]
  },
  {
   "cell_type": "markdown",
   "metadata": {},
   "source": [
    "# Dimension 50"
   ]
  },
  {
   "cell_type": "code",
   "execution_count": 63,
   "metadata": {},
   "outputs": [
    {
     "name": "stdout",
     "output_type": "stream",
     "text": [
      "message: Desired error not necessarily achieved due to precision loss.\n",
      "function value: -180.00\n",
      "true minimum: -180.0\n",
      "number of iterations: 4\n",
      "Computational time: 0.08 s\n"
     ]
    }
   ],
   "source": [
    "f = fun.shiftedGriewank\n",
    "low = -600\n",
    "high = 600\n",
    "my_dim = 50\n",
    "\n",
    "np.random.seed(1236)\n",
    "x_init = np.random.uniform(low=low, high=high, size=(my_dim))\n",
    "cback = myCallback()\n",
    "startTime = time.time()\n",
    "sol50 = minimize(f, x_init, method='CG', args=(my_dim,), callback = cback.evaluate, \n",
    "                options = {'disp':False, 'maxiter':51, 'gtol':1e-6, 'norm': np.inf, 'eps':1e-2})\n",
    "runTime = time.time() - startTime\n",
    "print('message: {}'.format(sol50.message))\n",
    "print('function value: {:.2f}'.format(sol50.fun))\n",
    "print('true minimum: {}'.format(fun.fbias[4]))\n",
    "print('number of iterations: {}'.format(sol50.nit))\n",
    "print('Computational time: {:.2f} s'.format(runTime))"
   ]
  },
  {
   "cell_type": "code",
   "execution_count": 64,
   "metadata": {},
   "outputs": [
    {
     "data": {
      "image/png": "[encoded data removed]",
      "text/plain": [
       "<Figure size 432x288 with 1 Axes>"
      ]
     },
     "metadata": {
      "needs_background": "light"
     },
     "output_type": "display_data"
    }
   ],
   "source": [
    "plt.plot([i for i in range(len(cback.mxEvals))], [f(cback.mxEvals[i], my_dim) for i in range(len(cback.mxEvals))])\n",
    "plt.xlabel('Iteration Number')\n",
    "plt.ylabel('Function value')\n",
    "plt.title('Function value as a function of iteration number')\n",
    "plt.savefig('convergenceCurve_dim_' + str(my_dim))"
   ]
  },
  {
   "cell_type": "markdown",
   "metadata": {},
   "source": [
    "# Dimension 500"
   ]
  },
  {
   "cell_type": "code",
   "execution_count": 65,
   "metadata": {},
   "outputs": [
    {
     "name": "stdout",
     "output_type": "stream",
     "text": [
      "message: Desired error not necessarily achieved due to precision loss.\n",
      "function value: -180.00\n",
      "true minimum: -180.0\n",
      "number of iterations: 1\n",
      "Computational time: 5.02 s\n"
     ]
    }
   ],
   "source": [
    "f = fun.shiftedGriewank\n",
    "low = -600\n",
    "high = 600\n",
    "my_dim = 500\n",
    "\n",
    "np.random.seed(1236)\n",
    "x_init = np.random.uniform(low=low, high=high, size=(my_dim))\n",
    "cback = myCallback()\n",
    "startTime = time.time()\n",
    "sol500 = minimize(f, x_init, method='CG', args=(my_dim,), callback = cback.evaluate, \n",
    "                options = {'disp':False, 'maxiter':51, 'gtol':1e-6, 'norm': np.inf, 'eps':1e-2})\n",
    "runTime = time.time() - startTime\n",
    "print('message: {}'.format(sol50.message))\n",
    "print('function value: {:.2f}'.format(sol500.fun))\n",
    "print('true minimum: {}'.format(fun.fbias[4]))\n",
    "print('number of iterations: {}'.format(sol500.nit))\n",
    "print('Computational time: {:.2f} s'.format(runTime))"
   ]
  },
  {
   "cell_type": "code",
   "execution_count": 66,
   "metadata": {},
   "outputs": [
    {
     "data": {
      "image/png": "[encoded data removed]",
      "text/plain": [
       "<Figure size 432x288 with 1 Axes>"
      ]
     },
     "metadata": {
      "needs_background": "light"
     },
     "output_type": "display_data"
    }
   ],
   "source": [
    "plt.plot([i for i in range(len(cback.mxEvals))], [f(cback.mxEvals[i], my_dim) for i in range(len(cback.mxEvals))])\n",
    "plt.xlabel('Iteration Number')\n",
    "plt.ylabel('Function value')\n",
    "plt.title('Function value as a function of iteration number')\n",
    "plt.savefig('convergenceCurve_dim_' + str(my_dim))"
   ]
  },
  {
   "cell_type": "code",
   "execution_count": 67,
   "metadata": {},
   "outputs": [
    {
     "name": "stdout",
     "output_type": "stream",
     "text": [
      "Solution dimension 50\n",
      "[ 540.15255396 -322.63793001  128.20661439  -16.82584875  469.55511658\n",
      "  314.51193597  -52.24327237 -577.80239147  385.68710371  -66.36087394\n",
      "  138.51607405  350.31743428  506.17189908  285.85016117 -388.4860396\n",
      " -113.15487749  522.56326041  500.28383731 -107.68104922  472.38344374\n",
      " -530.54692044 -176.56506394  375.79817319 -588.17754156 -433.33693299\n",
      " -356.69452081 -361.54670103  124.55163092 -273.3813698  -361.42550552\n",
      " -581.68982241  296.14915891  -65.88990498  518.18102184  -40.81790106\n",
      "  -97.62568863  415.46812355   30.17718129 -356.83248118  206.55831825\n",
      "  405.73667758 -576.44885853  217.52311898 -144.63772304  398.15338966\n",
      "    3.37007054  251.35777238  -85.3379128  -234.45877445 -372.43473285]\n"
     ]
    }
   ],
   "source": [
    "print('Solution dimension 50')\n",
    "print(sol50.x)"
   ]
  },
  {
   "cell_type": "code",
   "execution_count": 68,
   "metadata": {},
   "outputs": [
    {
     "name": "stdout",
     "output_type": "stream",
     "text": [
      "Solution dimension 500\n",
      "[ 540.15079611 -322.63902556  128.20593306  -16.8264509   469.55439664\n",
      "  314.51136941  -52.24371688 -577.80085913  385.68398999  -66.36095457\n",
      "  138.51402417  350.31927231  506.17067166  285.84419235 -388.48565857\n",
      " -113.15735399  522.55895919  500.28056454 -107.68077181  472.37501977\n",
      " -530.53616548 -176.56335639  375.79500353 -588.17181098 -433.33600162\n",
      " -356.68720007 -361.53936687  124.54630261 -273.3795993  -361.42774383\n",
      " -581.67705602  296.13845028  -65.88931652  518.17296691  -40.81212828\n",
      "  -97.62564193  415.46110589   30.17795046 -356.8284042   206.55987312\n",
      "  405.73710887 -576.43818549  217.52735567 -144.62830564  398.15038747\n",
      "    3.37043983  251.36051865  -85.33435814 -234.46387982 -372.42124286\n",
      " -367.88760891  218.66324813 -236.68785909   50.00355631 -418.95741163\n",
      "  237.4734556  -145.95747715  432.00895314  424.381683    112.27105531\n",
      "   -4.14213375  479.71827042  385.95047903  173.88766754  381.56404706\n",
      "  192.26830387 -189.64033387 -252.33366684 -190.57274418   40.89021747\n",
      "  272.53107987 -228.85710816  406.19044345   81.68157403 -155.5088193\n",
      "  243.28311433   55.8806428   -66.14842009  233.4755211   145.56734835\n",
      "  353.78031227  548.20799518   27.10382239  456.16620374 -392.45779957\n",
      "  575.69211353 -274.2689429  -297.20967888  450.88596351  284.76229078\n",
      " -436.18309075 -585.89707931  472.67263707 -361.03956336 -241.537267\n",
      "  193.72649777 -258.71503639  -36.9355329  -522.26844512  585.99751723\n",
      "   99.34544178  -91.80959168   18.60905859 -199.2637302   -80.51707725\n",
      " -328.86547693   95.76338092  312.43319472   35.78270904  168.62657664\n",
      " -349.12240409 -144.22328065  339.99004039  217.0096095   -46.69066565\n",
      "   81.38927428  353.04768141 -528.9861514   123.43815657 -539.68311193\n",
      " -101.55545289 -234.00710847  449.23599064 -581.99411698  321.53586658\n",
      "  565.00920815  588.09416382  346.62917983  -73.61461622   -2.03155876\n",
      " -343.24953733  172.18569711 -215.96254672  552.1137857   271.95319571\n",
      " -105.66108262  293.47422994 -278.46854896  -72.09585335  520.05165527\n",
      "  219.99354916 -344.9331267   407.08153138  154.53653321 -439.47797187\n",
      " -351.44560087  128.63399341  155.86037447 -155.43260105   90.17224345\n",
      "  -58.29492395 -547.331216   -567.38367895 -224.7832693  -584.5702785\n",
      " -139.24402659  219.73462856 -488.59424691 -557.59905878  134.86978646\n",
      "  130.2430776  -581.09392479 -580.37931851 -371.91553401  104.2972459\n",
      " -530.90786915 -158.92301061  157.73610588  261.15621287  231.19883361\n",
      " -499.11060885  -54.77913763  -69.81067921 -176.10485709 -415.67729642\n",
      "  210.7687379   239.05132777  273.00647215  -25.94390143   65.80535382\n",
      " -454.74837014  -59.10074672  259.05515637  471.40551942 -272.28249504\n",
      " -294.28214495  438.71955738 -321.18464433  365.84133981  490.07224571\n",
      " -321.73226477 -312.82998077 -540.30013217 -505.94467181  168.9737302\n",
      " -370.94169573  412.63857948 -391.32512305 -395.05388403  593.15043563\n",
      "  -72.25633628 -191.94797353 -222.94421395 -161.9114037  -128.11752673\n",
      "  109.82571037 -456.30934198 -554.25099406  -49.68787758  443.83603852\n",
      "  521.07935972 -282.66584631 -407.64536398  447.4220458  -314.54858567\n",
      "  174.99237798  560.25997656  197.91251055  444.45249126 -588.0930983\n",
      " -435.59387487  382.50224463  -83.80567582  468.38117008  281.88521728\n",
      "  224.78363804 -184.67052542 -400.76351892 -413.27054396 -370.66600748\n",
      "  -93.06343009  427.16648363  -11.70539863  379.11738023  -47.08102685\n",
      "  -51.17995086  -59.1783742  -105.342583    481.92673024 -593.30438593\n",
      " -243.11818513 -541.01035761  231.81155567  180.12312776  579.58063037\n",
      "   63.20249466 -119.91677886 -361.45928413  150.23597346  280.03051689\n",
      " -148.9422486  -588.15336631  -96.17551325  304.39867862  352.64138512\n",
      "  503.94421438  413.6614013  -158.7015384   144.95648034  277.52788246\n",
      " -367.33377339  485.76982158   83.04213694  158.14260682 -318.7092888\n",
      "   58.53385261  517.89579604 -197.76779843  186.63238164 -129.71961127\n",
      "  152.77331339  238.89150097 -123.38478916 -103.65016152  186.25046292\n",
      "  405.09723933 -154.07506375  -89.70164591  113.59068045   78.88098637\n",
      "  259.84577038   13.56865018  331.67711456  -12.79015237 -376.92040155\n",
      "  240.75739859  579.24560565  367.96047204  244.27643046  -18.0482954\n",
      " -462.46979538  197.82143052 -161.55610343 -431.95212944   80.12237011\n",
      "  387.6055873   208.73335754  599.33229327  553.95908037 -529.37045415\n",
      " -167.63130225   58.21070032 -285.88142946  116.808581   -540.87195188\n",
      "   85.26361418  241.02357125  554.74113864  300.61739797  287.98651656\n",
      "  -81.75726923  161.11446243  363.62692641 -499.34823305  534.5511288\n",
      "  499.12592648  122.37963482 -295.73294194  448.13586139   16.07613326\n",
      "  279.17602109  -93.33327415  553.63925049 -513.534734     64.08422057\n",
      " -249.62495676  429.55170054 -197.09931419  216.23932789 -535.87183288\n",
      " -172.01886877   -2.03902061  -78.67606824   74.94497311  139.94012195\n",
      " -463.99785391  477.8975331   305.45682601  349.34301928  377.93791383\n",
      "  203.99942744 -358.95400654 -272.29985272  151.47633042   44.21695649\n",
      " -528.60091748 -493.25167735 -274.43506885 -109.11876951  -31.15521309\n",
      "  490.78284705  115.49164891 -205.25926044  -26.17200565  116.599677\n",
      " -406.26718042  395.36416266  547.34265212  114.65305079 -565.50726952\n",
      "  374.53713816  132.13160588  241.78624074 -489.37028487  -90.13850734\n",
      " -149.31343427 -400.62018464  399.77676871  406.36255545  -58.06798322\n",
      "  547.91676413 -423.42168169  443.91520407  323.31859275  -67.01129154\n",
      "  144.73934646  542.02258272  168.00666371 -303.21171659 -176.76249877\n",
      " -374.57282963  -11.23189559 -108.87626756  -43.77466987  133.12700741\n",
      " -514.60299272 -222.86848896  130.0555992  -389.98137702  145.2279955\n",
      " -304.85328776  104.82519801    7.25895727  -42.27043905   49.69816909\n",
      "  530.78767473 -189.89438078 -117.83970156 -230.77929238 -106.12356102\n",
      " -256.87804814 -127.05230211    3.61211962  266.37059673 -232.5552892\n",
      " -465.40937553  -68.05747664  -39.88976515 -582.40288065  196.85692395\n",
      "  268.86911809 -262.04533381 -285.82307259  250.16121869  340.62648945\n",
      "  583.38466407  -31.99416504  483.3782274   -58.7341224   365.41528081\n",
      "  394.63273266 -400.48122089 -127.31750448   24.90353534  261.7436198\n",
      "   83.02223618  -47.03800134  -65.63631523 -494.71162603  -67.82508247\n",
      " -160.44508391 -236.96473182  422.20937763  311.37065449  539.7062804\n",
      "   69.52133599 -582.92537364  115.40797684  379.44167996  572.50584225\n",
      " -333.71509999  244.4158968    26.46785332  519.47220942  256.02044914\n",
      " -326.35857669  -60.43488309 -393.36547162  562.57999542 -173.14570677\n",
      " -541.1490198   306.40198083  473.77036765 -256.62563763 -298.56450402\n",
      "  519.27918861 -442.82625987  528.97906774  242.2190952   417.20715247\n",
      " -348.87922055  -53.89500606 -502.71721711  421.34185347   74.45377213\n",
      " -216.84963623 -150.12568303  441.35019762 -153.3939889  -511.57713821\n",
      " -360.19922705 -540.61302602   80.04689981 -453.69546417   26.52932308\n",
      " -459.53282444  323.89702305 -149.93804137  388.06027268 -544.04218272\n",
      "  117.49143814  538.97561129 -253.44848306  466.5949032  -478.10290738\n",
      " -521.62771087 -318.84537025  519.71387839 -524.251533   -282.94420552\n",
      "  599.43333404 -345.61924708   -1.91363319 -251.41928266  207.30091437\n",
      "  549.58521934  319.85703862  199.3439816  -442.87171615 -485.50953837]\n"
     ]
    }
   ],
   "source": [
    "print('Solution dimension 500')\n",
    "print(sol500.x)"
   ]
  },
  {
   "cell_type": "code",
   "execution_count": null,
   "metadata": {},
   "outputs": [],
   "source": []
  }
 ],
 "metadata": {
  "kernelspec": {
   "display_name": "Python 3",
   "language": "python",
   "name": "python3"
  },
  "language_info": {
   "codemirror_mode": {
    "name": "ipython",
    "version": 3
   },
   "file_extension": ".py",
   "mimetype": "text/x-python",
   "name": "python",
   "nbconvert_exporter": "python",
   "pygments_lexer": "ipython3",
   "version": "3.7.4"
  }
 },
 "nbformat": 4,
 "nbformat_minor": 2
}
