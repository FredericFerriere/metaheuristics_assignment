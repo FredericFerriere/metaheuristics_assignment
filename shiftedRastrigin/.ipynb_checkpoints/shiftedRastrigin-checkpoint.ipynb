{
 "cells": [
  {
   "cell_type": "code",
   "execution_count": 1,
   "metadata": {},
   "outputs": [],
   "source": [
    "import numpy as np\n",
    "import matplotlib.pyplot as plt\n",
    "import scipy\n",
    "from scipy.optimize import minimize\n",
    "from scipy.optimize import minimize_scalar\n",
    "import math\n",
    "import time\n",
    "import functionToOptimise as fun"
   ]
  },
  {
   "cell_type": "code",
   "execution_count": 2,
   "metadata": {},
   "outputs": [],
   "source": [
    "class myCallback:\n",
    "    def __init__(self):\n",
    "        self.mxEvals = []\n",
    "    def evaluate(self, x, *args):\n",
    "        self.mxEvals.append(x)"
   ]
  },
  {
   "cell_type": "markdown",
   "metadata": {},
   "source": [
    "# Dimension 50"
   ]
  },
  {
   "cell_type": "code",
   "execution_count": 3,
   "metadata": {},
   "outputs": [
    {
     "name": "stdout",
     "output_type": "stream",
     "text": [
      "message: Desired error not necessarily achieved due to precision loss.\n",
      "function value: 1605.33\n",
      "true minimum: -450.0\n",
      "number of iterations: 20\n",
      "Computational time: 0.06 s\n"
     ]
    }
   ],
   "source": [
    "f = fun.shiftedRastrigin\n",
    "low = -100\n",
    "high = 100\n",
    "my_dim = 50\n",
    "\n",
    "np.random.seed(1234)\n",
    "x_init = np.random.uniform(low=low, high=high, size=(my_dim))\n",
    "cback = myCallback()\n",
    "startTime = time.time()\n",
    "sol50 = minimize(f, x_init, method='CG', args=(my_dim,), callback = cback.evaluate, \n",
    "                options = {'disp':False, 'maxiter':51, 'gtol':1e-6, 'norm': np.inf, 'eps':1e-2})\n",
    "runTime = time.time() - startTime\n",
    "print('message: {}'.format(sol50.message))\n",
    "print('function value: {:.2f}'.format(sol50.fun))\n",
    "print('true minimum: {}'.format(fun.fbias[0]))\n",
    "print('number of iterations: {}'.format(sol50.nit))\n",
    "print('Computational time: {:.2f} s'.format(runTime))"
   ]
  },
  {
   "cell_type": "markdown",
   "metadata": {},
   "source": [
    "# Dimension 500"
   ]
  },
  {
   "cell_type": "code",
   "execution_count": null,
   "metadata": {},
   "outputs": [],
   "source": []
  }
 ],
 "metadata": {
  "kernelspec": {
   "display_name": "Python 3",
   "language": "python",
   "name": "python3"
  },
  "language_info": {
   "codemirror_mode": {
    "name": "ipython",
    "version": 3
   },
   "file_extension": ".py",
   "mimetype": "text/x-python",
   "name": "python",
   "nbconvert_exporter": "python",
   "pygments_lexer": "ipython3",
   "version": "3.7.4"
  }
 },
 "nbformat": 4,
 "nbformat_minor": 2
}
