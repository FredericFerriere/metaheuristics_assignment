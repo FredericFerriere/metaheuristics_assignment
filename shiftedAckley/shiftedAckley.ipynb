{
 "cells": [
  {
   "cell_type": "code",
   "execution_count": 1,
   "metadata": {},
   "outputs": [],
   "source": [
    "import numpy as np\n",
    "import matplotlib.pyplot as plt\n",
    "import scipy\n",
    "from scipy.optimize import minimize\n",
    "from scipy.optimize import minimize_scalar\n",
    "import math\n",
    "import time\n",
    "import functionToOptimise as fun"
   ]
  },
  {
   "cell_type": "code",
   "execution_count": 2,
   "metadata": {},
   "outputs": [],
   "source": [
    "class myCallback:\n",
    "    def __init__(self):\n",
    "        self.mxEvals = []\n",
    "    def evaluate(self, x, *args):\n",
    "        self.mxEvals.append(x)"
   ]
  },
  {
   "cell_type": "code",
   "execution_count": null,
   "metadata": {},
   "outputs": [],
   "source": [
    "def simulatedAnnealing(objFun, minMax, xStart, initTemp, finalTemp, coolFactor, searchRadius, maxIterPerTemp, *args):\n",
    "    # objFun : the function to optimize\n",
    "    # minMax : 1 to minimize, -1 to maximize\n",
    "    # xStart: starting point of the search\n",
    "    # initTemp: initial Temperature\n",
    "    # finalTemp: finalTemperature\n",
    "    # coolFactor: parameters <1\n",
    "    #             At each step temperature change, new temp = current temp * coolFactor\n",
    "    # searchRadius: the radius of the ball inside which we look for a solution. \n",
    "    #               When current temperature < 1, the new search radius = current search radius * coolFactor\n",
    "    # maxIterTemp: the maximum number of iterations we perform once we found a new optimum at a given temperature\n",
    "    #              This defines the equilibrium condition at a given temperature, ie we've iterated maxIterPerTemp \n",
    "    #              without finding a better solution\n",
    "    \n",
    "    # Note on implementation:\n",
    "    # When the current temperature falls below 1, the search radius gets multiplied by the coolFactor\n",
    "    # This allows for intensification when we're near the end of the algorithm\n",
    "    \n",
    "    # Please note this is a custom implementation of simulated annealing. It was implemented so as to \n",
    "    # allow better identification of which parameter to change when convergence isn't obtained.\n",
    "    # To achieve this, the algorithm \"normalizes\" delta (the change in energy) using the average delta \n",
    "    # at the equilibrium position for a given temperature. This avoids having to adjust for initial temperatures\n",
    "    # and final temperatures so that the order of magnitude depends on the energy delta. We get a better control\n",
    "    # of the barrier level for diversification.\n",
    "    \n",
    "    funDim = args[0]\n",
    "    curTemp = initTemp\n",
    "    xBest = np.copy(xStart)\n",
    "    fxBest = objFun(xBest, funDim) * minMax\n",
    "    \n",
    "    # to store all evaluated points and associated function values\n",
    "    xIter = []\n",
    "    fxIter = []\n",
    "    \n",
    "    # to store best x and f(xBest) for a given temperature\n",
    "    bestxTemp = []\n",
    "    bestfxTemp = []\n",
    "    probs = []\n",
    "        \n",
    "    iterCount = 0\n",
    "    while curTemp > finalTemp:\n",
    "        #restarting from our equilibrium point (ie best value so far)\n",
    "        x = np.copy(xBest)\n",
    "        fx = fxBest\n",
    "        iterCount = 0\n",
    "        deltaAvg = 0\n",
    "        probVec = []\n",
    "        \n",
    "        #we reach equilibrium at this temperature if we iterated maxIterPerTemp times without improving the best solution\n",
    "        while iterCount < maxIterPerTemp:\n",
    "            xTest = x + np.random.uniform(-searchRadius, searchRadius, x.shape[0])\n",
    "            fxTest = objFun(xTest, funDim) * minMax\n",
    "            delta = fxTest - fx\n",
    "            deltaAvg = (iterCount*deltaAvg+abs(delta))/(iterCount+1)\n",
    "            \n",
    "            if delta >0:\n",
    "                lim_prob = np.exp(-(delta/deltaAvg)/curTemp)\n",
    "                probVec.append(lim_prob)\n",
    "\n",
    "            if delta < 0 or np.random.random() < np.exp(-(delta/deltaAvg)/curTemp):\n",
    "                x = np.copy(xTest)\n",
    "                fx = fxTest\n",
    "            iterCount+=1\n",
    "            \n",
    "            if fxTest < fxBest:\n",
    "                #we improved the best solution, reset iterCount to 0 and store new best solution \n",
    "                iterCount = 0\n",
    "                deltaAvg = 0\n",
    "                xBest = np.copy(xTest)\n",
    "                fxBest = fxTest\n",
    "\n",
    "            xIter.append(x)\n",
    "            fxIter.append(objFun(x, funDim))\n",
    "        bestxTemp.append(xBest)\n",
    "        bestfxTemp.append(objFun(xBest, funDim))\n",
    "        probs.append(np.mean(probVec))\n",
    "        if curTemp <1:\n",
    "            # below 1 degree, decrease the search radius to increase intensification\n",
    "            searchRadius *= coolFactor\n",
    "        curTemp *= coolFactor\n",
    "\n",
    "    return bestxTemp, bestfxTemp, xIter, fxIter, probs"
   ]
  },
  {
   "cell_type": "code",
   "execution_count": null,
   "metadata": {},
   "outputs": [],
   "source": [
    "f = fun.shiftedRastrigin\n",
    "low = -5\n",
    "high = 5\n",
    "my_dim = 50\n",
    "\n",
    "#np.random.seed(1235)\n",
    "x_init = np.random.uniform(low=low, high=high, size=(my_dim))\n",
    "cback = myCallback()\n",
    "startTime = time.time()\n",
    "\n",
    "initTemp = 100\n",
    "finalTemp = 0.01\n",
    "coolFactor = 0.8\n",
    "searchRadius = 0.1\n",
    "maxIterTemp = 100\n",
    "minMax = 1  #minimize = 1, maximize = -1\n",
    "\n",
    "bestxTemp, bestfxTemp, xEvals, fxEvals, probs = simulatedAnnealing(f, minMax, x_init, initTemp, finalTemp, coolFactor, searchRadius, maxIterTemp, my_dim)\n",
    "\n",
    "#print('starting point: {}'.format(x_init))\n",
    "#print('solution: {}'.format(bestxTemp[-1]))\n",
    "#print('function value: {}'.format(bestfxTemp[-1]))\n",
    "\n",
    "\n",
    "#sol50 = minimize(f, x_init, method='CG', args=(my_dim,), callback = cback.evaluate, \n",
    "#                options = {'disp':False, 'maxiter':51, 'gtol':1e-6, 'norm': np.inf, 'eps':1e-2})\n",
    "runTime = time.time() - startTime\n",
    "\n",
    "#print('message: {}'.format(sol50.message))\n",
    "print('function value: {:.2f}'.format(bestfxTemp[-1]))\n",
    "print('true minimum: {}'.format(fun.fbias[3]))\n",
    "#print('number of iterations: {}'.format(sol50.nit))\n",
    "print('Computational time: {:.2f} s'.format(runTime))"
   ]
  },
  {
   "cell_type": "code",
   "execution_count": null,
   "metadata": {},
   "outputs": [],
   "source": [
    "fig = plt.figure()\n",
    "tempZoom = 0\n",
    "g1 = fig.add_subplot(1, 3, 1)\n",
    "plt.plot([i for i in range(tempZoom, len(bestfxTemp))], np.array(bestfxTemp[tempZoom:]))\n",
    "g1.set_xlabel('temperature iteration')\n",
    "g1.set_ylabel('Best Function Value at current t ')\n",
    "g1.title.set_text('Best Value found across temperature iterations')\n",
    "\n",
    "g2 = fig.add_subplot(1, 3, 2)\n",
    "plt.plot([i for i in range(len(xEvals))], np.array(fxEvals))\n",
    "g2.set_xlabel('evaluation number')\n",
    "g2.set_ylabel('function value')\n",
    "g2.title.set_text('function value as a function of iterations')\n",
    "\n",
    "startPos = 3000\n",
    "g3 = fig.add_subplot(1, 3, 3)\n",
    "plt.plot([i for i in range(tempZoom, len(probs))], np.array(probs[tempZoom:]))\n",
    "\n",
    "fig.set_figwidth(20)"
   ]
  },
  {
   "cell_type": "markdown",
   "metadata": {},
   "source": [
    "# Dimension 50"
   ]
  },
  {
   "cell_type": "code",
   "execution_count": 8,
   "metadata": {},
   "outputs": [
    {
     "name": "stdout",
     "output_type": "stream",
     "text": [
      "message: Desired error not necessarily achieved due to precision loss.\n",
      "function value: -120.18\n",
      "true minimum: -140.0\n",
      "number of iterations: 7\n",
      "Computational time: 0.06 s\n"
     ]
    }
   ],
   "source": [
    "f = fun.shiftedAckley\n",
    "low = -32\n",
    "high = 32\n",
    "my_dim = 50\n",
    "\n",
    "np.random.seed(1236)\n",
    "x_init = np.random.uniform(low=low, high=high, size=(my_dim))\n",
    "cback = myCallback()\n",
    "startTime = time.time()\n",
    "sol50 = minimize(f, x_init, method='CG', args=(my_dim,), callback = cback.evaluate, \n",
    "                options = {'disp':False, 'maxiter':51, 'gtol':1e-20, 'norm': np.inf, 'eps':1e-2})\n",
    "runTime = time.time() - startTime\n",
    "print('message: {}'.format(sol50.message))\n",
    "print('function value: {:.2f}'.format(sol50.fun))\n",
    "print('true minimum: {}'.format(fun.fbias[5]))\n",
    "print('number of iterations: {}'.format(sol50.nit))\n",
    "print('Computational time: {:.2f} s'.format(runTime))"
   ]
  },
  {
   "cell_type": "code",
   "execution_count": 9,
   "metadata": {},
   "outputs": [
    {
     "data": {
      "image/png": "[encoded data removed]",
      "text/plain": [
       "<Figure size 432x288 with 1 Axes>"
      ]
     },
     "metadata": {
      "needs_background": "light"
     },
     "output_type": "display_data"
    }
   ],
   "source": [
    "plt.plot([i for i in range(len(cback.mxEvals))], [f(cback.mxEvals[i], my_dim) for i in range(len(cback.mxEvals))])\n",
    "plt.xlabel('Iteration Number')\n",
    "plt.ylabel('Function value')\n",
    "plt.title('Function value as a function of iteration number')\n",
    "plt.savefig('convergenceCurve_dim_' + str(my_dim))"
   ]
  },
  {
   "cell_type": "markdown",
   "metadata": {},
   "source": [
    "# Dimension 500"
   ]
  },
  {
   "cell_type": "code",
   "execution_count": 10,
   "metadata": {},
   "outputs": [
    {
     "name": "stdout",
     "output_type": "stream",
     "text": [
      "message: Desired error not necessarily achieved due to precision loss.\n",
      "function value: -120.13\n",
      "true minimum: -140.0\n",
      "number of iterations: 10\n",
      "Computational time: 1.18 s\n"
     ]
    }
   ],
   "source": [
    "f = fun.shiftedAckley\n",
    "low = -32\n",
    "high = 32\n",
    "my_dim = 500\n",
    "\n",
    "np.random.seed(1236)\n",
    "x_init = np.random.uniform(low=low, high=high, size=(my_dim))\n",
    "cback = myCallback()\n",
    "startTime = time.time()\n",
    "sol500 = minimize(f, x_init, method='CG', args=(my_dim,), callback = cback.evaluate, \n",
    "                options = {'disp':False, 'maxiter':51, 'gtol':1e-6, 'norm': np.inf, 'eps':1e-2})\n",
    "runTime = time.time() - startTime\n",
    "print('message: {}'.format(sol500.message))\n",
    "print('function value: {:.2f}'.format(sol500.fun))\n",
    "print('true minimum: {}'.format(fun.fbias[5]))\n",
    "print('number of iterations: {}'.format(sol500.nit))\n",
    "print('Computational time: {:.2f} s'.format(runTime))"
   ]
  },
  {
   "cell_type": "code",
   "execution_count": 11,
   "metadata": {},
   "outputs": [
    {
     "data": {
      "image/png": "[encoded data removed]",
      "text/plain": [
       "<Figure size 432x288 with 1 Axes>"
      ]
     },
     "metadata": {
      "needs_background": "light"
     },
     "output_type": "display_data"
    }
   ],
   "source": [
    "plt.plot([i for i in range(len(cback.mxEvals))], [f(cback.mxEvals[i], my_dim) for i in range(len(cback.mxEvals))])\n",
    "plt.xlabel('Iteration Number')\n",
    "plt.ylabel('Function value')\n",
    "plt.title('Function value as a function of iteration number')\n",
    "plt.savefig('convergenceCurve_dim_' + str(my_dim))"
   ]
  },
  {
   "cell_type": "code",
   "execution_count": null,
   "metadata": {},
   "outputs": [],
   "source": []
  }
 ],
 "metadata": {
  "kernelspec": {
   "display_name": "Python 3",
   "language": "python",
   "name": "python3"
  },
  "language_info": {
   "codemirror_mode": {
    "name": "ipython",
    "version": 3
   },
   "file_extension": ".py",
   "mimetype": "text/x-python",
   "name": "python",
   "nbconvert_exporter": "python",
   "pygments_lexer": "ipython3",
   "version": "3.7.4"
  }
 },
 "nbformat": 4,
 "nbformat_minor": 2
}
