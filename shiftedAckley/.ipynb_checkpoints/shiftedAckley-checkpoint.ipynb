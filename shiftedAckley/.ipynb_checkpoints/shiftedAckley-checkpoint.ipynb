{
 "cells": [
  {
   "cell_type": "code",
   "execution_count": 21,
   "metadata": {},
   "outputs": [],
   "source": [
    "import numpy as np\n",
    "import matplotlib.pyplot as plt\n",
    "import scipy\n",
    "from scipy.optimize import minimize\n",
    "from scipy.optimize import minimize_scalar\n",
    "import math\n",
    "import time\n",
    "import functionToOptimise as fun"
   ]
  },
  {
   "cell_type": "code",
   "execution_count": 22,
   "metadata": {},
   "outputs": [],
   "source": [
    "class myCallback:\n",
    "    def __init__(self):\n",
    "        self.mxEvals = []\n",
    "    def evaluate(self, x, *args):\n",
    "        self.mxEvals.append(x)"
   ]
  },
  {
   "cell_type": "code",
   "execution_count": 23,
   "metadata": {},
   "outputs": [],
   "source": [
    "def customOptimiser(f, x_init, x_min, x_max, *args):\n",
    "    numIter = 0\n",
    "    \n",
    "    # optimise dimension 1\n",
    "    # to find the minimum in range [x_min, x_max], split the interval into\n",
    "    # [x_min, x_min+1], [x_min+1, x_min+2], ..., [x_max-1, x_max]\n",
    "    # and find local minimum for each interval\n",
    "    # keep best solution amongst those local minima\n",
    "    \n",
    "    sol = np.array([x_init[0]])\n",
    "    # Initialise best solution in interval [x_min, x_min+1]\n",
    "    res = minimize_scalar(lambda x:f(np.array([x]), 1 ), method='bounded', bounds=(x_min, x_min+1), \n",
    "                          options={'xatol': 1e-03, 'maxiter': 500, 'disp': 0})\n",
    "    bestx = res.x\n",
    "    bestfx = res.fun\n",
    "    numIter+=res.nfev\n",
    "    \n",
    "    # loop on other intervals\n",
    "    curx = x_min + 2\n",
    "    while curx <= x_max:\n",
    "        res = minimize_scalar(lambda x:f(np.array([x]), 1 ), method='bounded', bounds=(curx-1, curx),\n",
    "                             options={'xatol': 1e-03, 'maxiter': 500, 'disp': 0})\n",
    "        if res.fun<bestfx:\n",
    "            # we improved the local minimum, store the solution\n",
    "            bestx = res.x\n",
    "            bestfx = res.fun\n",
    "        numIter+=res.nfev\n",
    "        curx+=1\n",
    "\n",
    "    sol[0] = bestx\n",
    "    \n",
    "    # Optimise remaining dimensions, same idea as first dimension, keeping previously found \n",
    "    # values for other dimensions fixed\n",
    "    \n",
    "    for k in range(1, args[0]):\n",
    "        previous = [sol[i] for i in range(k)]\n",
    "        sol = np.array(previous + [x_init[k]])\n",
    "        \n",
    "        # initialisation on [x_min, x_min+1]\n",
    "        res = minimize_scalar(lambda x:f(np.array(previous + [x]), k+1 ), method='bounded', bounds=(x_min, x_min+1),\n",
    "                             options={'xatol': 1e-03, 'maxiter': 500, 'disp': 0})\n",
    "        bestx = res.x\n",
    "        bestfx = res.fun\n",
    "        numIter+=res.nfev\n",
    "        \n",
    "        # find local minimum on other intervals in the search space\n",
    "        # and keep best local minimum to get global minimum\n",
    "        curx = x_min+2\n",
    "        while curx<=x_max:\n",
    "            res = minimize_scalar(lambda x:f(np.array(previous + [x]), k+1 ), method='bounded', bounds=(curx-1, curx),\n",
    "                                 options={'xatol': 1e-03, 'maxiter': 500, 'disp': 0})\n",
    "            if res.fun<bestfx:\n",
    "                bestx=res.x\n",
    "                bestfx=res.fun\n",
    "            numIter+=res.nfev\n",
    "            curx+=1\n",
    "            \n",
    "        sol[k] = bestx\n",
    "\n",
    "    return sol, f(sol, args[0]), numIter\n"
   ]
  },
  {
   "cell_type": "markdown",
   "metadata": {},
   "source": [
    "# Dimension 50"
   ]
  },
  {
   "cell_type": "code",
   "execution_count": 24,
   "metadata": {},
   "outputs": [
    {
     "name": "stdout",
     "output_type": "stream",
     "text": [
      "function value: -139.99960533166654\n",
      "true minimum: -140.0\n",
      "number iterations: 35678\n",
      "Computational time: 1.35 s\n"
     ]
    }
   ],
   "source": [
    "f = fun.shiftedAckley\n",
    "low = -32\n",
    "high = 32\n",
    "my_dim = 50\n",
    "\n",
    "np.random.seed(1598)\n",
    "startTime = time.time()\n",
    "x_init = np.random.uniform(low=low, high=high, size=(my_dim))\n",
    "xopt50, fopt, numIter = customOptimiser(f, x_init, low, high, my_dim)\n",
    "runTime = time.time() - startTime\n",
    "\n",
    "print('function value: {}'.format(fopt))\n",
    "print('true minimum: {}'.format(fun.fbias[5]))\n",
    "print('number iterations: {}'.format(numIter))\n",
    "print('Computational time: {:.2f} s'.format(runTime))"
   ]
  },
  {
   "cell_type": "markdown",
   "metadata": {},
   "source": [
    "# Dimension 500"
   ]
  },
  {
   "cell_type": "code",
   "execution_count": 25,
   "metadata": {},
   "outputs": [
    {
     "name": "stdout",
     "output_type": "stream",
     "text": [
      "function value: -139.99958759898468\n",
      "true minimum: -140.0\n",
      "number iterations: 491073\n",
      "Computational time: 25.60 s\n"
     ]
    }
   ],
   "source": [
    "f = fun.shiftedAckley\n",
    "low = -32\n",
    "high = 32\n",
    "my_dim = 500\n",
    "\n",
    "np.random.seed(1598)\n",
    "startTime = time.time()\n",
    "x_init = np.random.uniform(low=low, high=high, size=(my_dim))\n",
    "xopt500, fopt, numIter = customOptimiser(f, x_init, low, high, my_dim)\n",
    "runTime = time.time() - startTime\n",
    "\n",
    "print('function value: {}'.format(fopt))\n",
    "print('true minimum: {}'.format(fun.fbias[5]))\n",
    "print('number iterations: {}'.format(numIter))\n",
    "print('Computational time: {:.2f} s'.format(runTime))"
   ]
  },
  {
   "cell_type": "code",
   "execution_count": null,
   "metadata": {},
   "outputs": [],
   "source": []
  }
 ],
 "metadata": {
  "kernelspec": {
   "display_name": "Python 3",
   "language": "python",
   "name": "python3"
  },
  "language_info": {
   "codemirror_mode": {
    "name": "ipython",
    "version": 3
   },
   "file_extension": ".py",
   "mimetype": "text/x-python",
   "name": "python",
   "nbconvert_exporter": "python",
   "pygments_lexer": "ipython3",
   "version": "3.7.4"
  }
 },
 "nbformat": 4,
 "nbformat_minor": 2
}
