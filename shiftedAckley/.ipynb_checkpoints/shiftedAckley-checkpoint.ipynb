{
 "cells": [
  {
   "cell_type": "code",
   "execution_count": 3,
   "metadata": {},
   "outputs": [
    {
     "ename": "ModuleNotFoundError",
     "evalue": "No module named 'functionToOptimise'",
     "output_type": "error",
     "traceback": [
      "\u001b[1;31m---------------------------------------------------------------------------\u001b[0m",
      "\u001b[1;31mModuleNotFoundError\u001b[0m                       Traceback (most recent call last)",
      "\u001b[1;32m<ipython-input-3-30038b180822>\u001b[0m in \u001b[0;36m<module>\u001b[1;34m\u001b[0m\n\u001b[0;32m      6\u001b[0m \u001b[1;32mimport\u001b[0m \u001b[0mmath\u001b[0m\u001b[1;33m\u001b[0m\u001b[1;33m\u001b[0m\u001b[0m\n\u001b[0;32m      7\u001b[0m \u001b[1;32mimport\u001b[0m \u001b[0mtime\u001b[0m\u001b[1;33m\u001b[0m\u001b[1;33m\u001b[0m\u001b[0m\n\u001b[1;32m----> 8\u001b[1;33m \u001b[1;32mimport\u001b[0m \u001b[0mfunctionToOptimise\u001b[0m \u001b[1;32mas\u001b[0m \u001b[0mfun\u001b[0m\u001b[1;33m\u001b[0m\u001b[1;33m\u001b[0m\u001b[0m\n\u001b[0m",
      "\u001b[1;31mModuleNotFoundError\u001b[0m: No module named 'functionToOptimise'"
     ]
    }
   ],
   "source": [
    "import numpy as np\n",
    "import matplotlib.pyplot as plt\n",
    "import scipy\n",
    "from scipy.optimize import minimize\n",
    "from scipy.optimize import minimize_scalar\n",
    "import math\n",
    "import time\n",
    "import functionToOptimise as fun"
   ]
  },
  {
   "cell_type": "code",
   "execution_count": null,
   "metadata": {},
   "outputs": [],
   "source": [
    "class myCallback:\n",
    "    def __init__(self):\n",
    "        self.mxEvals = []\n",
    "    def evaluate(self, x, *args):\n",
    "        self.mxEvals.append(x)"
   ]
  },
  {
   "cell_type": "markdown",
   "metadata": {},
   "source": [
    "# Dimension 50"
   ]
  },
  {
   "cell_type": "code",
   "execution_count": null,
   "metadata": {},
   "outputs": [],
   "source": [
    "f = fun.shiftedAckley\n",
    "low = -100\n",
    "high = 100\n",
    "my_dim = 50\n",
    "\n",
    "np.random.seed(1236)\n",
    "x_init = np.random.uniform(low=low, high=high, size=(my_dim))\n",
    "cback = myCallback()\n",
    "startTime = time.time()\n",
    "sol50 = minimize(f, x_init, method='CG', args=(my_dim,), callback = cback.evaluate, \n",
    "                options = {'disp':False, 'maxiter':51, 'gtol':1e-6, 'norm': np.inf, 'eps':1e-2})\n",
    "runTime = time.time() - startTime\n",
    "print('message: {}'.format(sol50.message))\n",
    "print('function value: {:.2f}'.format(sol50.fun))\n",
    "print('true minimum: {}'.format(fun.fbias[5]))\n",
    "print('number of iterations: {}'.format(sol50.nit))\n",
    "print('Computational time: {:.2f} s'.format(runTime))"
   ]
  },
  {
   "cell_type": "code",
   "execution_count": null,
   "metadata": {},
   "outputs": [],
   "source": [
    "plt.plot([i for i in range(len(cback.mxEvals))], [f(cback.mxEvals[i], my_dim) for i in range(len(cback.mxEvals))])\n",
    "plt.xlabel('Iteration Number')\n",
    "plt.ylabel('Function value')\n",
    "plt.title('Function value as a function of iteration number')\n",
    "plt.savefig('convergenceCurve_dim_' + str(my_dim))"
   ]
  },
  {
   "cell_type": "markdown",
   "metadata": {},
   "source": [
    "# Dimension 500"
   ]
  },
  {
   "cell_type": "code",
   "execution_count": null,
   "metadata": {},
   "outputs": [],
   "source": [
    "f = fun.shiftedAckley\n",
    "low = -100\n",
    "high = 100\n",
    "my_dim = 500\n",
    "\n",
    "np.random.seed(1236)\n",
    "x_init = np.random.uniform(low=low, high=high, size=(my_dim))\n",
    "cback = myCallback()\n",
    "startTime = time.time()\n",
    "sol500 = minimize(f, x_init, method='CG', args=(my_dim,), callback = cback.evaluate, \n",
    "                options = {'disp':False, 'maxiter':51, 'gtol':1e-6, 'norm': np.inf, 'eps':1e-2})\n",
    "runTime = time.time() - startTime\n",
    "print('message: {}'.format(sol500.message))\n",
    "print('function value: {:.2f}'.format(sol500.fun))\n",
    "print('true minimum: {}'.format(fun.fbias[5]))\n",
    "print('number of iterations: {}'.format(sol500.nit))\n",
    "print('Computational time: {:.2f} s'.format(runTime))"
   ]
  },
  {
   "cell_type": "code",
   "execution_count": null,
   "metadata": {},
   "outputs": [],
   "source": [
    "plt.plot([i for i in range(len(cback.mxEvals))], [f(cback.mxEvals[i], my_dim) for i in range(len(cback.mxEvals))])\n",
    "plt.xlabel('Iteration Number')\n",
    "plt.ylabel('Function value')\n",
    "plt.title('Function value as a function of iteration number')\n",
    "plt.savefig('convergenceCurve_dim_' + str(my_dim))"
   ]
  }
 ],
 "metadata": {
  "kernelspec": {
   "display_name": "Python 3",
   "language": "python",
   "name": "python3"
  },
  "language_info": {
   "codemirror_mode": {
    "name": "ipython",
    "version": 3
   },
   "file_extension": ".py",
   "mimetype": "text/x-python",
   "name": "python",
   "nbconvert_exporter": "python",
   "pygments_lexer": "ipython3",
   "version": "3.7.4"
  }
 },
 "nbformat": 4,
 "nbformat_minor": 2
}
